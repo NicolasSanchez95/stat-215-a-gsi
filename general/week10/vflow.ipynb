{
 "cells": [
  {
   "cell_type": "code",
   "execution_count": 1,
   "metadata": {},
   "outputs": [
    {
     "name": "stderr",
     "output_type": "stream",
     "text": [
      "/opt/miniconda3/envs/215a/lib/python3.6/site-packages/vflow/vset.py:10: FutureWarning: MLflow support for Python 3.6 is deprecated and will be dropped in an upcoming release. At that point, existing Python 3.6 workflows that use MLflow will continue to work without modification, but Python 3.6 users will no longer get access to the latest MLflow features and bugfixes. We recommend that you upgrade to Python 3.7 or newer.\n",
      "  from mlflow.tracking import MlflowClient\n"
     ]
    }
   ],
   "source": [
    "import sklearn\n",
    "from sklearn.datasets import make_classification\n",
    "from sklearn.linear_model import LogisticRegression\n",
    "from sklearn.metrics import accuracy_score, balanced_accuracy_score\n",
    "from sklearn.model_selection import train_test_split\n",
    "from sklearn.tree import DecisionTreeClassifier\n",
    "\n",
    "from vflow import Vset, init_args, dict_to_df, perturbation_stats\n",
    "from vflow.pipeline import build_graph\n",
    "import matplotlib.pyplot as plt\n",
    "import ray"
   ]
  },
  {
   "cell_type": "code",
   "execution_count": 2,
   "metadata": {},
   "outputs": [],
   "source": [
    "X, y = make_classification() # make sample dataset\n",
    "X_train, X_test, y_train, y_test = init_args(\n",
    "    train_test_split(X, y, test_size=0.2),\n",
    "    names=[\"X_train\", \"X_test\", \"y_train\", \"y_test\"],  # optionally name the args\n",
    ")"
   ]
  },
  {
   "cell_type": "code",
   "execution_count": 3,
   "metadata": {},
   "outputs": [
    {
     "data": {
      "text/plain": [
       "{(X_train,): array([[-0.92391161, -0.36116888,  1.33713111, ...,  0.04755302,\n",
       "          1.16148162,  0.31391534],\n",
       "        [ 1.05004849, -0.17554274,  0.39877443, ..., -0.82537544,\n",
       "          0.83709694, -1.05517875],\n",
       "        [ 1.13991663,  0.22212712,  1.0174011 , ..., -0.65693381,\n",
       "          0.41189582, -0.70887163],\n",
       "        ...,\n",
       "        [-1.01071731, -0.14508865,  1.35044439, ...,  1.11046153,\n",
       "         -0.75591959,  0.56970427],\n",
       "        [ 0.5075978 ,  0.6147053 ,  0.53535289, ..., -1.00350005,\n",
       "          0.90777755, -0.27290012],\n",
       "        [ 1.07571739, -0.02717265,  1.45488906, ..., -0.47514019,\n",
       "          1.54323294, -0.43500394]]),\n",
       " '__prev__': ('init',)}"
      ]
     },
     "execution_count": 3,
     "metadata": {},
     "output_type": "execute_result"
    }
   ],
   "source": [
    "X_train"
   ]
  },
  {
   "cell_type": "code",
   "execution_count": 4,
   "metadata": {},
   "outputs": [
    {
     "data": {
      "text/plain": [
       "<vflow.vset.Vset at 0x7fac52e49860>"
      ]
     },
     "execution_count": 4,
     "metadata": {},
     "output_type": "execute_result"
    }
   ],
   "source": [
    "subsampling_funcs = [sklearn.utils.resample for _ in range(3)]\n",
    "subsampling_set = Vset(\n",
    "    name=\"subsampling\", vfuncs=subsampling_funcs, output_matching=True\n",
    ")\n",
    "# output_matching=True so that the Vset will have the same outputs on training\n",
    "# and test data\n",
    "subsampling_set"
   ]
  },
  {
   "cell_type": "code",
   "execution_count": 5,
   "metadata": {},
   "outputs": [
    {
     "data": {
      "text/plain": [
       "{(X_train,\n",
       "  subsampling_0): array([[-0.61124669, -0.34016947, -0.21589863, ..., -0.5680841 ,\n",
       "          0.03494742,  0.14135262],\n",
       "        [ 1.13269772, -1.52763505, -1.3022241 , ...,  1.5394207 ,\n",
       "          0.63048568, -1.07441884],\n",
       "        [ 1.47789373, -0.42590758,  0.26434261, ...,  0.97098091,\n",
       "          0.19530823, -1.13025104],\n",
       "        ...,\n",
       "        [ 1.22388508, -1.5947687 ,  0.32812612, ..., -0.32182171,\n",
       "          0.51623768, -1.07703761],\n",
       "        [ 1.52317824,  0.98099065, -0.47296172, ..., -0.21478086,\n",
       "         -1.07523587, -0.82055207],\n",
       "        [-1.71286685,  0.12970712,  0.4770702 , ..., -0.15261702,\n",
       "         -0.05698782,  1.43882766]]),\n",
       " (X_train,\n",
       "  subsampling_1): array([[-1.80797577,  1.84193122,  0.39572607, ..., -0.05453989,\n",
       "          1.26918215,  1.46764011],\n",
       "        [-0.92391161, -0.36116888,  1.33713111, ...,  0.04755302,\n",
       "          1.16148162,  0.31391534],\n",
       "        [ 1.05154853,  1.26221203,  0.3150243 , ...,  0.17852263,\n",
       "         -1.14815092, -0.70433194],\n",
       "        ...,\n",
       "        [-1.01071731, -0.14508865,  1.35044439, ...,  1.11046153,\n",
       "         -0.75591959,  0.56970427],\n",
       "        [-0.61124669, -0.34016947, -0.21589863, ..., -0.5680841 ,\n",
       "          0.03494742,  0.14135262],\n",
       "        [ 1.29011457,  1.70058022, -1.39537547, ..., -0.49205906,\n",
       "          1.33856791, -1.10580612]]),\n",
       " (X_train,\n",
       "  subsampling_2): array([[-1.12185238, -1.3077713 , -0.76260563, ...,  1.61734686,\n",
       "          1.22238613,  0.4097057 ],\n",
       "        [-0.71873415,  0.80115961, -1.42659349, ...,  0.33984344,\n",
       "         -1.37720662,  0.03904753],\n",
       "        [-1.80797577,  1.84193122,  0.39572607, ..., -0.05453989,\n",
       "          1.26918215,  1.46764011],\n",
       "        ...,\n",
       "        [ 1.13991663,  0.22212712,  1.0174011 , ..., -0.65693381,\n",
       "          0.41189582, -0.70887163],\n",
       "        [-0.0778097 ,  0.78149541,  1.07772608, ..., -0.65034783,\n",
       "         -1.20989413,  0.55884633],\n",
       "        [ 0.31067762,  1.10165528, -0.22929505, ...,  0.1517237 ,\n",
       "          1.03713322, -0.93526989]]),\n",
       " '__prev__': (<vflow.vset.Vset at 0x7fac52e49860>, ('init',))}"
      ]
     },
     "execution_count": 5,
     "metadata": {},
     "output_type": "execute_result"
    }
   ],
   "source": [
    "X_trains, y_trains = subsampling_set(X_train, y_train)\n",
    "X_trains"
   ]
  },
  {
   "cell_type": "code",
   "execution_count": 9,
   "metadata": {},
   "outputs": [
    {
     "name": "stdout",
     "output_type": "stream",
     "text": [
      "/opt/miniconda3/envs/215a/bin/python\n"
     ]
    },
    {
     "name": "stderr",
     "output_type": "stream",
     "text": [
      "\u001b[2m\u001b[33m(raylet)\u001b[0m [2024-11-04 14:49:35,214 E 53595 2217346] (raylet) file_system_monitor.cc:111: /tmp/ray/session_2024-11-04_14-44-59_566559_53558 is over 95% full, available space: 2712297472; capacity: 250685575168. Object creation will fail if spilling is required.\n",
      "\u001b[2m\u001b[33m(raylet)\u001b[0m [2024-11-04 14:49:45,282 E 53595 2217346] (raylet) file_system_monitor.cc:111: /tmp/ray/session_2024-11-04_14-44-59_566559_53558 is over 95% full, available space: 2712051712; capacity: 250685575168. Object creation will fail if spilling is required.\n",
      "\u001b[2m\u001b[33m(raylet)\u001b[0m [2024-11-04 14:49:55,358 E 53595 2217346] (raylet) file_system_monitor.cc:111: /tmp/ray/session_2024-11-04_14-44-59_566559_53558 is over 95% full, available space: 2711781376; capacity: 250685575168. Object creation will fail if spilling is required.\n",
      "\u001b[2m\u001b[33m(raylet)\u001b[0m [2024-11-04 14:50:05,438 E 53595 2217346] (raylet) file_system_monitor.cc:111: /tmp/ray/session_2024-11-04_14-44-59_566559_53558 is over 95% full, available space: 2711453696; capacity: 250685575168. Object creation will fail if spilling is required.\n",
      "\u001b[2m\u001b[33m(raylet)\u001b[0m [2024-11-04 14:50:15,511 E 53595 2217346] (raylet) file_system_monitor.cc:111: /tmp/ray/session_2024-11-04_14-44-59_566559_53558 is over 95% full, available space: 2711261184; capacity: 250685575168. Object creation will fail if spilling is required.\n",
      "\u001b[2m\u001b[33m(raylet)\u001b[0m [2024-11-04 14:50:25,581 E 53595 2217346] (raylet) file_system_monitor.cc:111: /tmp/ray/session_2024-11-04_14-44-59_566559_53558 is over 95% full, available space: 2710781952; capacity: 250685575168. Object creation will fail if spilling is required.\n",
      "\u001b[2m\u001b[33m(raylet)\u001b[0m [2024-11-04 14:50:35,655 E 53595 2217346] (raylet) file_system_monitor.cc:111: /tmp/ray/session_2024-11-04_14-44-59_566559_53558 is over 95% full, available space: 2710294528; capacity: 250685575168. Object creation will fail if spilling is required.\n",
      "\u001b[2m\u001b[33m(raylet)\u001b[0m [2024-11-04 14:50:45,726 E 53595 2217346] (raylet) file_system_monitor.cc:111: /tmp/ray/session_2024-11-04_14-44-59_566559_53558 is over 95% full, available space: 2713804800; capacity: 250685575168. Object creation will fail if spilling is required.\n",
      "\u001b[2m\u001b[33m(raylet)\u001b[0m [2024-11-04 14:50:55,798 E 53595 2217346] (raylet) file_system_monitor.cc:111: /tmp/ray/session_2024-11-04_14-44-59_566559_53558 is over 95% full, available space: 2713497600; capacity: 250685575168. Object creation will fail if spilling is required.\n",
      "\u001b[2m\u001b[33m(raylet)\u001b[0m [2024-11-04 14:51:05,869 E 53595 2217346] (raylet) file_system_monitor.cc:111: /tmp/ray/session_2024-11-04_14-44-59_566559_53558 is over 95% full, available space: 2713120768; capacity: 250685575168. Object creation will fail if spilling is required.\n",
      "\u001b[2m\u001b[33m(raylet)\u001b[0m [2024-11-04 14:51:15,952 E 53595 2217346] (raylet) file_system_monitor.cc:111: /tmp/ray/session_2024-11-04_14-44-59_566559_53558 is over 95% full, available space: 2712670208; capacity: 250685575168. Object creation will fail if spilling is required.\n",
      "\u001b[2m\u001b[33m(raylet)\u001b[0m [2024-11-04 14:51:26,028 E 53595 2217346] (raylet) file_system_monitor.cc:111: /tmp/ray/session_2024-11-04_14-44-59_566559_53558 is over 95% full, available space: 2711728128; capacity: 250685575168. Object creation will fail if spilling is required.\n",
      "\u001b[2m\u001b[33m(raylet)\u001b[0m [2024-11-04 14:51:36,094 E 53595 2217346] (raylet) file_system_monitor.cc:111: /tmp/ray/session_2024-11-04_14-44-59_566559_53558 is over 95% full, available space: 2711457792; capacity: 250685575168. Object creation will fail if spilling is required.\n",
      "\u001b[2m\u001b[33m(raylet)\u001b[0m [2024-11-04 14:51:46,161 E 53595 2217346] (raylet) file_system_monitor.cc:111: /tmp/ray/session_2024-11-04_14-44-59_566559_53558 is over 95% full, available space: 2711056384; capacity: 250685575168. Object creation will fail if spilling is required.\n",
      "\u001b[2m\u001b[33m(raylet)\u001b[0m [2024-11-04 14:51:56,228 E 53595 2217346] (raylet) file_system_monitor.cc:111: /tmp/ray/session_2024-11-04_14-44-59_566559_53558 is over 95% full, available space: 2710781952; capacity: 250685575168. Object creation will fail if spilling is required.\n",
      "\u001b[2m\u001b[33m(raylet)\u001b[0m [2024-11-04 14:52:06,299 E 53595 2217346] (raylet) file_system_monitor.cc:111: /tmp/ray/session_2024-11-04_14-44-59_566559_53558 is over 95% full, available space: 2710425600; capacity: 250685575168. Object creation will fail if spilling is required.\n",
      "\u001b[2m\u001b[33m(raylet)\u001b[0m [2024-11-04 14:52:16,375 E 53595 2217346] (raylet) file_system_monitor.cc:111: /tmp/ray/session_2024-11-04_14-44-59_566559_53558 is over 95% full, available space: 2710458368; capacity: 250685575168. Object creation will fail if spilling is required.\n",
      "\u001b[2m\u001b[33m(raylet)\u001b[0m [2024-11-04 14:52:26,427 E 53595 2217346] (raylet) file_system_monitor.cc:111: /tmp/ray/session_2024-11-04_14-44-59_566559_53558 is over 95% full, available space: 2709688320; capacity: 250685575168. Object creation will fail if spilling is required.\n",
      "\u001b[2m\u001b[33m(raylet)\u001b[0m [2024-11-04 14:52:36,500 E 53595 2217346] (raylet) file_system_monitor.cc:111: /tmp/ray/session_2024-11-04_14-44-59_566559_53558 is over 95% full, available space: 2709057536; capacity: 250685575168. Object creation will fail if spilling is required.\n",
      "\u001b[2m\u001b[33m(raylet)\u001b[0m [2024-11-04 14:52:46,570 E 53595 2217346] (raylet) file_system_monitor.cc:111: /tmp/ray/session_2024-11-04_14-44-59_566559_53558 is over 95% full, available space: 2719309824; capacity: 250685575168. Object creation will fail if spilling is required.\n",
      "\u001b[2m\u001b[33m(raylet)\u001b[0m [2024-11-04 14:52:56,654 E 53595 2217346] (raylet) file_system_monitor.cc:111: /tmp/ray/session_2024-11-04_14-44-59_566559_53558 is over 95% full, available space: 2731896832; capacity: 250685575168. Object creation will fail if spilling is required.\n",
      "\u001b[2m\u001b[33m(raylet)\u001b[0m [2024-11-04 14:53:06,753 E 53595 2217346] (raylet) file_system_monitor.cc:111: /tmp/ray/session_2024-11-04_14-44-59_566559_53558 is over 95% full, available space: 2731425792; capacity: 250685575168. Object creation will fail if spilling is required.\n",
      "\u001b[2m\u001b[33m(raylet)\u001b[0m [2024-11-04 14:53:16,816 E 53595 2217346] (raylet) file_system_monitor.cc:111: /tmp/ray/session_2024-11-04_14-44-59_566559_53558 is over 95% full, available space: 2731278336; capacity: 250685575168. Object creation will fail if spilling is required.\n",
      "\u001b[2m\u001b[33m(raylet)\u001b[0m [2024-11-04 14:53:26,917 E 53595 2217346] (raylet) file_system_monitor.cc:111: /tmp/ray/session_2024-11-04_14-44-59_566559_53558 is over 95% full, available space: 2730938368; capacity: 250685575168. Object creation will fail if spilling is required.\n",
      "\u001b[2m\u001b[33m(raylet)\u001b[0m [2024-11-04 14:53:37,007 E 53595 2217346] (raylet) file_system_monitor.cc:111: /tmp/ray/session_2024-11-04_14-44-59_566559_53558 is over 95% full, available space: 2730774528; capacity: 250685575168. Object creation will fail if spilling is required.\n",
      "\u001b[2m\u001b[33m(raylet)\u001b[0m [2024-11-04 14:53:47,084 E 53595 2217346] (raylet) file_system_monitor.cc:111: /tmp/ray/session_2024-11-04_14-44-59_566559_53558 is over 95% full, available space: 2730151936; capacity: 250685575168. Object creation will fail if spilling is required.\n",
      "\u001b[2m\u001b[33m(raylet)\u001b[0m [2024-11-04 14:53:57,173 E 53595 2217346] (raylet) file_system_monitor.cc:111: /tmp/ray/session_2024-11-04_14-44-59_566559_53558 is over 95% full, available space: 2729791488; capacity: 250685575168. Object creation will fail if spilling is required.\n"
     ]
    }
   ],
   "source": [
    "import sys\n",
    "print(sys.executable)"
   ]
  },
  {
   "cell_type": "code",
   "execution_count": 6,
   "metadata": {},
   "outputs": [
    {
     "data": {
      "text/plain": [
       "{(y_train,\n",
       "  subsampling_0): array([1, 1, 1, 1, 0, 0, 1, 0, 1, 0, 0, 0, 0, 0, 1, 1, 0, 0, 1, 0, 1, 1,\n",
       "        0, 1, 1, 1, 0, 0, 0, 0, 1, 0, 0, 0, 0, 1, 1, 1, 1, 0, 0, 1, 0, 1,\n",
       "        1, 1, 1, 0, 0, 1, 0, 0, 0, 0, 1, 0, 1, 0, 1, 1, 1, 0, 1, 1, 0, 0,\n",
       "        0, 1, 0, 1, 1, 1, 0, 0, 0, 0, 1, 1, 0, 0]),\n",
       " (y_train,\n",
       "  subsampling_1): array([0, 1, 0, 1, 1, 1, 1, 1, 0, 0, 0, 0, 1, 1, 1, 0, 1, 1, 0, 0, 1, 1,\n",
       "        0, 1, 0, 1, 1, 0, 1, 1, 0, 1, 0, 1, 0, 0, 1, 1, 1, 0, 0, 1, 1, 0,\n",
       "        0, 0, 0, 1, 1, 0, 0, 1, 1, 1, 1, 0, 0, 1, 1, 0, 0, 0, 0, 0, 0, 1,\n",
       "        1, 0, 0, 0, 0, 0, 0, 0, 1, 0, 1, 1, 1, 1]),\n",
       " (y_train,\n",
       "  subsampling_2): array([1, 1, 0, 1, 0, 1, 1, 0, 1, 1, 1, 0, 1, 0, 1, 0, 1, 0, 1, 0, 1, 1,\n",
       "        1, 1, 1, 0, 1, 0, 1, 0, 0, 0, 0, 0, 1, 0, 1, 1, 1, 1, 1, 1, 1, 1,\n",
       "        0, 1, 1, 0, 0, 1, 0, 0, 0, 1, 1, 0, 0, 1, 1, 0, 0, 1, 0, 1, 1, 0,\n",
       "        0, 1, 0, 0, 0, 0, 1, 0, 1, 1, 1, 0, 0, 1]),\n",
       " '__prev__': (<vflow.vset.Vset at 0x7fac52e49860>, ('init',))}"
      ]
     },
     "execution_count": 6,
     "metadata": {},
     "output_type": "execute_result"
    }
   ],
   "source": [
    "y_trains"
   ]
  },
  {
   "cell_type": "code",
   "execution_count": 7,
   "metadata": {},
   "outputs": [
    {
     "name": "stderr",
     "output_type": "stream",
     "text": [
      "2024-11-04 14:45:03,380\tINFO worker.py:1625 -- Started a local Ray instance.\n"
     ]
    },
    {
     "ename": "TypeError",
     "evalue": "Attempting to call `get` on the value [1 0 0 0 0 1 0 0 1 0 0 0 0 0 1 0 1 1 1 0], which is not an ray.ObjectRef.",
     "output_type": "error",
     "traceback": [
      "\u001b[0;31m---------------------------------------------------------------------------\u001b[0m",
      "\u001b[0;31mTypeError\u001b[0m                                 Traceback (most recent call last)",
      "\u001b[0;32m<ipython-input-7-d55268ae27b9>\u001b[0m in \u001b[0;36m<module>\u001b[0;34m\u001b[0m\n\u001b[1;32m     11\u001b[0m \u001b[0mray\u001b[0m\u001b[0;34m.\u001b[0m\u001b[0minit\u001b[0m\u001b[0;34m(\u001b[0m\u001b[0mnum_cpus\u001b[0m\u001b[0;34m=\u001b[0m\u001b[0;36m4\u001b[0m\u001b[0;34m)\u001b[0m\u001b[0;34m\u001b[0m\u001b[0;34m\u001b[0m\u001b[0m\n\u001b[1;32m     12\u001b[0m \u001b[0mmodeling_set\u001b[0m\u001b[0;34m.\u001b[0m\u001b[0mfit\u001b[0m\u001b[0;34m(\u001b[0m\u001b[0mX_trains\u001b[0m\u001b[0;34m,\u001b[0m \u001b[0my_trains\u001b[0m\u001b[0;34m)\u001b[0m\u001b[0;34m\u001b[0m\u001b[0;34m\u001b[0m\u001b[0m\n\u001b[0;32m---> 13\u001b[0;31m \u001b[0mpreds_test\u001b[0m \u001b[0;34m=\u001b[0m \u001b[0mmodeling_set\u001b[0m\u001b[0;34m.\u001b[0m\u001b[0mpredict\u001b[0m\u001b[0;34m(\u001b[0m\u001b[0mX_test\u001b[0m\u001b[0;34m)\u001b[0m\u001b[0;34m\u001b[0m\u001b[0;34m\u001b[0m\u001b[0m\n\u001b[0m\u001b[1;32m     14\u001b[0m \u001b[0mray\u001b[0m\u001b[0;34m.\u001b[0m\u001b[0mshutdown\u001b[0m\u001b[0;34m(\u001b[0m\u001b[0;34m)\u001b[0m\u001b[0;34m\u001b[0m\u001b[0;34m\u001b[0m\u001b[0m\n\u001b[1;32m     15\u001b[0m \u001b[0mpreds_test\u001b[0m\u001b[0;34m\u001b[0m\u001b[0;34m\u001b[0m\u001b[0m\n",
      "\u001b[0;32m/opt/miniconda3/envs/215a/lib/python3.6/site-packages/vflow/vset.py\u001b[0m in \u001b[0;36mpredict\u001b[0;34m(self, with_uncertainty, group_by, *args)\u001b[0m\n\u001b[1;32m    200\u001b[0m             \u001b[0;32mif\u001b[0m \u001b[0mhasattr\u001b[0m\u001b[0;34m(\u001b[0m\u001b[0mv\u001b[0m\u001b[0;34m,\u001b[0m \u001b[0;34m'predict'\u001b[0m\u001b[0;34m)\u001b[0m\u001b[0;34m:\u001b[0m\u001b[0;34m\u001b[0m\u001b[0;34m\u001b[0m\u001b[0m\n\u001b[1;32m    201\u001b[0m                 \u001b[0mpred_dict\u001b[0m\u001b[0;34m[\u001b[0m\u001b[0mk\u001b[0m\u001b[0;34m]\u001b[0m \u001b[0;34m=\u001b[0m \u001b[0mv\u001b[0m\u001b[0;34m.\u001b[0m\u001b[0mpredict\u001b[0m\u001b[0;34m\u001b[0m\u001b[0;34m\u001b[0m\u001b[0m\n\u001b[0;32m--> 202\u001b[0;31m         \u001b[0mpreds\u001b[0m \u001b[0;34m=\u001b[0m \u001b[0mself\u001b[0m\u001b[0;34m.\u001b[0m\u001b[0m_apply_func\u001b[0m\u001b[0;34m(\u001b[0m\u001b[0;34m*\u001b[0m\u001b[0margs\u001b[0m\u001b[0;34m,\u001b[0m \u001b[0mout_dict\u001b[0m\u001b[0;34m=\u001b[0m\u001b[0mpred_dict\u001b[0m\u001b[0;34m)\u001b[0m\u001b[0;34m\u001b[0m\u001b[0;34m\u001b[0m\u001b[0m\n\u001b[0m\u001b[1;32m    203\u001b[0m         \u001b[0;32mif\u001b[0m \u001b[0mwith_uncertainty\u001b[0m\u001b[0;34m:\u001b[0m\u001b[0;34m\u001b[0m\u001b[0;34m\u001b[0m\u001b[0m\n\u001b[1;32m    204\u001b[0m             \u001b[0;32mreturn\u001b[0m \u001b[0mprediction_uncertainty\u001b[0m\u001b[0;34m(\u001b[0m\u001b[0mpreds\u001b[0m\u001b[0;34m,\u001b[0m \u001b[0mgroup_by\u001b[0m\u001b[0;34m)\u001b[0m\u001b[0;34m\u001b[0m\u001b[0;34m\u001b[0m\u001b[0m\n",
      "\u001b[0;32m/opt/miniconda3/envs/215a/lib/python3.6/site-packages/vflow/vset.py\u001b[0m in \u001b[0;36m_apply_func\u001b[0;34m(self, out_dict, *args)\u001b[0m\n\u001b[1;32m    120\u001b[0m \u001b[0;34m\u001b[0m\u001b[0m\n\u001b[1;32m    121\u001b[0m         \u001b[0mapply_func_cached\u001b[0m \u001b[0;34m=\u001b[0m \u001b[0mself\u001b[0m\u001b[0;34m.\u001b[0m\u001b[0m_memory\u001b[0m\u001b[0;34m.\u001b[0m\u001b[0mcache\u001b[0m\u001b[0;34m(\u001b[0m\u001b[0m_apply_func_cached\u001b[0m\u001b[0;34m)\u001b[0m\u001b[0;34m\u001b[0m\u001b[0;34m\u001b[0m\u001b[0m\n\u001b[0;32m--> 122\u001b[0;31m         \u001b[0mout_dict\u001b[0m \u001b[0;34m=\u001b[0m \u001b[0mapply_func_cached\u001b[0m\u001b[0;34m(\u001b[0m\u001b[0mout_dict\u001b[0m\u001b[0;34m,\u001b[0m \u001b[0mself\u001b[0m\u001b[0;34m.\u001b[0m\u001b[0m_async\u001b[0m\u001b[0;34m,\u001b[0m \u001b[0mself\u001b[0m\u001b[0;34m.\u001b[0m\u001b[0m_lazy\u001b[0m\u001b[0;34m,\u001b[0m \u001b[0;34m*\u001b[0m\u001b[0margs\u001b[0m\u001b[0;34m)\u001b[0m\u001b[0;34m\u001b[0m\u001b[0;34m\u001b[0m\u001b[0m\n\u001b[0m\u001b[1;32m    123\u001b[0m \u001b[0;34m\u001b[0m\u001b[0m\n\u001b[1;32m    124\u001b[0m         \u001b[0mprev\u001b[0m \u001b[0;34m=\u001b[0m \u001b[0mtuple\u001b[0m\u001b[0;34m(\u001b[0m\u001b[0;34m)\u001b[0m\u001b[0;34m\u001b[0m\u001b[0;34m\u001b[0m\u001b[0m\n",
      "\u001b[0;32m/opt/miniconda3/envs/215a/lib/python3.6/site-packages/joblib/memory.py\u001b[0m in \u001b[0;36m__call__\u001b[0;34m(self, *args, **kwargs)\u001b[0m\n\u001b[1;32m    347\u001b[0m \u001b[0;34m\u001b[0m\u001b[0m\n\u001b[1;32m    348\u001b[0m     \u001b[0;32mdef\u001b[0m \u001b[0m__call__\u001b[0m\u001b[0;34m(\u001b[0m\u001b[0mself\u001b[0m\u001b[0;34m,\u001b[0m \u001b[0;34m*\u001b[0m\u001b[0margs\u001b[0m\u001b[0;34m,\u001b[0m \u001b[0;34m**\u001b[0m\u001b[0mkwargs\u001b[0m\u001b[0;34m)\u001b[0m\u001b[0;34m:\u001b[0m\u001b[0;34m\u001b[0m\u001b[0;34m\u001b[0m\u001b[0m\n\u001b[0;32m--> 349\u001b[0;31m         \u001b[0;32mreturn\u001b[0m \u001b[0mself\u001b[0m\u001b[0;34m.\u001b[0m\u001b[0mfunc\u001b[0m\u001b[0;34m(\u001b[0m\u001b[0;34m*\u001b[0m\u001b[0margs\u001b[0m\u001b[0;34m,\u001b[0m \u001b[0;34m**\u001b[0m\u001b[0mkwargs\u001b[0m\u001b[0;34m)\u001b[0m\u001b[0;34m\u001b[0m\u001b[0;34m\u001b[0m\u001b[0m\n\u001b[0m\u001b[1;32m    350\u001b[0m \u001b[0;34m\u001b[0m\u001b[0m\n\u001b[1;32m    351\u001b[0m     \u001b[0;32mdef\u001b[0m \u001b[0mcall_and_shelve\u001b[0m\u001b[0;34m(\u001b[0m\u001b[0mself\u001b[0m\u001b[0;34m,\u001b[0m \u001b[0;34m*\u001b[0m\u001b[0margs\u001b[0m\u001b[0;34m,\u001b[0m \u001b[0;34m**\u001b[0m\u001b[0mkwargs\u001b[0m\u001b[0;34m)\u001b[0m\u001b[0;34m:\u001b[0m\u001b[0;34m\u001b[0m\u001b[0;34m\u001b[0m\u001b[0m\n",
      "\u001b[0;32m/opt/miniconda3/envs/215a/lib/python3.6/site-packages/vflow/vset.py\u001b[0m in \u001b[0;36m_apply_func_cached\u001b[0;34m(out_dict, is_async, lazy, *args)\u001b[0m\n\u001b[1;32m    306\u001b[0m     \u001b[0;32mif\u001b[0m \u001b[0mis_async\u001b[0m \u001b[0;32mand\u001b[0m \u001b[0;32mnot\u001b[0m \u001b[0mlazy\u001b[0m\u001b[0;34m:\u001b[0m\u001b[0;34m\u001b[0m\u001b[0;34m\u001b[0m\u001b[0m\n\u001b[1;32m    307\u001b[0m         \u001b[0mout_keys\u001b[0m \u001b[0;34m=\u001b[0m \u001b[0mlist\u001b[0m\u001b[0;34m(\u001b[0m\u001b[0mout_dict\u001b[0m\u001b[0;34m.\u001b[0m\u001b[0mkeys\u001b[0m\u001b[0;34m(\u001b[0m\u001b[0;34m)\u001b[0m\u001b[0;34m)\u001b[0m\u001b[0;34m\u001b[0m\u001b[0;34m\u001b[0m\u001b[0m\n\u001b[0;32m--> 308\u001b[0;31m         \u001b[0mout_vals\u001b[0m \u001b[0;34m=\u001b[0m \u001b[0mray\u001b[0m\u001b[0;34m.\u001b[0m\u001b[0mget\u001b[0m\u001b[0;34m(\u001b[0m\u001b[0mlist\u001b[0m\u001b[0;34m(\u001b[0m\u001b[0mout_dict\u001b[0m\u001b[0;34m.\u001b[0m\u001b[0mvalues\u001b[0m\u001b[0;34m(\u001b[0m\u001b[0;34m)\u001b[0m\u001b[0;34m)\u001b[0m\u001b[0;34m)\u001b[0m\u001b[0;34m\u001b[0m\u001b[0;34m\u001b[0m\u001b[0m\n\u001b[0m\u001b[1;32m    309\u001b[0m         \u001b[0mout_dict\u001b[0m \u001b[0;34m=\u001b[0m \u001b[0mdict\u001b[0m\u001b[0;34m(\u001b[0m\u001b[0mzip\u001b[0m\u001b[0;34m(\u001b[0m\u001b[0mout_keys\u001b[0m\u001b[0;34m,\u001b[0m \u001b[0mout_vals\u001b[0m\u001b[0;34m)\u001b[0m\u001b[0;34m)\u001b[0m\u001b[0;34m\u001b[0m\u001b[0;34m\u001b[0m\u001b[0m\n\u001b[1;32m    310\u001b[0m \u001b[0;34m\u001b[0m\u001b[0m\n",
      "\u001b[0;32m/opt/miniconda3/envs/215a/lib/python3.6/site-packages/ray/_private/client_mode_hook.py\u001b[0m in \u001b[0;36mwrapper\u001b[0;34m(*args, **kwargs)\u001b[0m\n\u001b[1;32m    103\u001b[0m             \u001b[0;32mif\u001b[0m \u001b[0mfunc\u001b[0m\u001b[0;34m.\u001b[0m\u001b[0m__name__\u001b[0m \u001b[0;34m!=\u001b[0m \u001b[0;34m\"init\"\u001b[0m \u001b[0;32mor\u001b[0m \u001b[0mis_client_mode_enabled_by_default\u001b[0m\u001b[0;34m:\u001b[0m\u001b[0;34m\u001b[0m\u001b[0;34m\u001b[0m\u001b[0m\n\u001b[1;32m    104\u001b[0m                 \u001b[0;32mreturn\u001b[0m \u001b[0mgetattr\u001b[0m\u001b[0;34m(\u001b[0m\u001b[0mray\u001b[0m\u001b[0;34m,\u001b[0m \u001b[0mfunc\u001b[0m\u001b[0;34m.\u001b[0m\u001b[0m__name__\u001b[0m\u001b[0;34m)\u001b[0m\u001b[0;34m(\u001b[0m\u001b[0;34m*\u001b[0m\u001b[0margs\u001b[0m\u001b[0;34m,\u001b[0m \u001b[0;34m**\u001b[0m\u001b[0mkwargs\u001b[0m\u001b[0;34m)\u001b[0m\u001b[0;34m\u001b[0m\u001b[0;34m\u001b[0m\u001b[0m\n\u001b[0;32m--> 105\u001b[0;31m         \u001b[0;32mreturn\u001b[0m \u001b[0mfunc\u001b[0m\u001b[0;34m(\u001b[0m\u001b[0;34m*\u001b[0m\u001b[0margs\u001b[0m\u001b[0;34m,\u001b[0m \u001b[0;34m**\u001b[0m\u001b[0mkwargs\u001b[0m\u001b[0;34m)\u001b[0m\u001b[0;34m\u001b[0m\u001b[0;34m\u001b[0m\u001b[0m\n\u001b[0m\u001b[1;32m    106\u001b[0m \u001b[0;34m\u001b[0m\u001b[0m\n\u001b[1;32m    107\u001b[0m     \u001b[0;32mreturn\u001b[0m \u001b[0mwrapper\u001b[0m\u001b[0;34m\u001b[0m\u001b[0;34m\u001b[0m\u001b[0m\n",
      "\u001b[0;32m/opt/miniconda3/envs/215a/lib/python3.6/site-packages/ray/_private/worker.py\u001b[0m in \u001b[0;36mget\u001b[0;34m(object_refs, timeout)\u001b[0m\n\u001b[1;32m   2513\u001b[0m \u001b[0;34m\u001b[0m\u001b[0m\n\u001b[1;32m   2514\u001b[0m         \u001b[0;31m# TODO(ujvl): Consider how to allow user to retrieve the ready objects.\u001b[0m\u001b[0;34m\u001b[0m\u001b[0;34m\u001b[0m\u001b[0;34m\u001b[0m\u001b[0m\n\u001b[0;32m-> 2515\u001b[0;31m         \u001b[0mvalues\u001b[0m\u001b[0;34m,\u001b[0m \u001b[0mdebugger_breakpoint\u001b[0m \u001b[0;34m=\u001b[0m \u001b[0mworker\u001b[0m\u001b[0;34m.\u001b[0m\u001b[0mget_objects\u001b[0m\u001b[0;34m(\u001b[0m\u001b[0mobject_refs\u001b[0m\u001b[0;34m,\u001b[0m \u001b[0mtimeout\u001b[0m\u001b[0;34m=\u001b[0m\u001b[0mtimeout\u001b[0m\u001b[0;34m)\u001b[0m\u001b[0;34m\u001b[0m\u001b[0;34m\u001b[0m\u001b[0m\n\u001b[0m\u001b[1;32m   2516\u001b[0m         \u001b[0;32mfor\u001b[0m \u001b[0mi\u001b[0m\u001b[0;34m,\u001b[0m \u001b[0mvalue\u001b[0m \u001b[0;32min\u001b[0m \u001b[0menumerate\u001b[0m\u001b[0;34m(\u001b[0m\u001b[0mvalues\u001b[0m\u001b[0;34m)\u001b[0m\u001b[0;34m:\u001b[0m\u001b[0;34m\u001b[0m\u001b[0;34m\u001b[0m\u001b[0m\n\u001b[1;32m   2517\u001b[0m             \u001b[0;32mif\u001b[0m \u001b[0misinstance\u001b[0m\u001b[0;34m(\u001b[0m\u001b[0mvalue\u001b[0m\u001b[0;34m,\u001b[0m \u001b[0mRayError\u001b[0m\u001b[0;34m)\u001b[0m\u001b[0;34m:\u001b[0m\u001b[0;34m\u001b[0m\u001b[0;34m\u001b[0m\u001b[0m\n",
      "\u001b[0;32m/opt/miniconda3/envs/215a/lib/python3.6/site-packages/ray/_private/worker.py\u001b[0m in \u001b[0;36mget_objects\u001b[0;34m(self, object_refs, timeout)\u001b[0m\n\u001b[1;32m    735\u001b[0m             \u001b[0;32mif\u001b[0m \u001b[0;32mnot\u001b[0m \u001b[0misinstance\u001b[0m\u001b[0;34m(\u001b[0m\u001b[0mobject_ref\u001b[0m\u001b[0;34m,\u001b[0m \u001b[0mObjectRef\u001b[0m\u001b[0;34m)\u001b[0m\u001b[0;34m:\u001b[0m\u001b[0;34m\u001b[0m\u001b[0;34m\u001b[0m\u001b[0m\n\u001b[1;32m    736\u001b[0m                 raise TypeError(\n\u001b[0;32m--> 737\u001b[0;31m                     \u001b[0;34mf\"Attempting to call `get` on the value {object_ref}, \"\u001b[0m\u001b[0;34m\u001b[0m\u001b[0;34m\u001b[0m\u001b[0m\n\u001b[0m\u001b[1;32m    738\u001b[0m                     \u001b[0;34m\"which is not an ray.ObjectRef.\"\u001b[0m\u001b[0;34m\u001b[0m\u001b[0;34m\u001b[0m\u001b[0m\n\u001b[1;32m    739\u001b[0m                 )\n",
      "\u001b[0;31mTypeError\u001b[0m: Attempting to call `get` on the value [1 0 0 0 0 1 0 0 1 0 0 0 0 0 1 0 1 1 1 0], which is not an ray.ObjectRef."
     ]
    }
   ],
   "source": [
    "# define a Vset of models\n",
    "models = [LogisticRegression(), DecisionTreeClassifier()]\n",
    "\n",
    "\n",
    "# create a Vset of models. is_async=True so that the models are fit in parallel\n",
    "modeling_set = Vset(name=\"modeling\", vfuncs=models, vfunc_keys=[\"LR\", \"DT\"], is_async=True)\n",
    "\n",
    "# fit the models\n",
    "\n",
    "# create a Ray cluster with 4 cpus\n",
    "ray.init(num_cpus=4)\n",
    "modeling_set.fit(X_trains, y_trains)\n",
    "preds_test = modeling_set.predict(X_test)\n",
    "ray.shutdown()\n",
    "preds_test"
   ]
  },
  {
   "cell_type": "code",
   "execution_count": null,
   "metadata": {},
   "outputs": [],
   "source": [
    "# get metrics\n",
    "binary_metrics_set = Vset(\n",
    "    name=\"binary_metrics\",\n",
    "    vfuncs=[accuracy_score, balanced_accuracy_score],\n",
    "    vfunc_keys=[\"Acc\", \"Bal_Acc\"],\n",
    ")\n",
    "binary_metrics = binary_metrics_set.evaluate(preds_test, y_test)\n",
    "binary_metrics"
   ]
  },
  {
   "cell_type": "code",
   "execution_count": null,
   "metadata": {},
   "outputs": [],
   "source": [
    "df = dict_to_df(binary_metrics)\n",
    "df"
   ]
  },
  {
   "cell_type": "code",
   "execution_count": null,
   "metadata": {},
   "outputs": [],
   "source": [
    "perturbation_stats(df, 'modeling', 'binary_metrics')"
   ]
  },
  {
   "cell_type": "code",
   "execution_count": null,
   "metadata": {},
   "outputs": [
    {
     "name": "stderr",
     "output_type": "stream",
     "text": [
      "\u001b[2m\u001b[33m(raylet)\u001b[0m [2024-11-04 14:45:13,389 E 53595 2217346] (raylet) file_system_monitor.cc:111: /tmp/ray/session_2024-11-04_14-44-59_566559_53558 is over 95% full, available space: 3807969280; capacity: 250685575168. Object creation will fail if spilling is required.\n",
      "\u001b[2m\u001b[33m(raylet)\u001b[0m [2024-11-04 14:45:23,461 E 53595 2217346] (raylet) file_system_monitor.cc:111: /tmp/ray/session_2024-11-04_14-44-59_566559_53558 is over 95% full, available space: 3807174656; capacity: 250685575168. Object creation will fail if spilling is required.\n",
      "\u001b[2m\u001b[33m(raylet)\u001b[0m [2024-11-04 14:45:33,534 E 53595 2217346] (raylet) file_system_monitor.cc:111: /tmp/ray/session_2024-11-04_14-44-59_566559_53558 is over 95% full, available space: 3806486528; capacity: 250685575168. Object creation will fail if spilling is required.\n",
      "\u001b[2m\u001b[33m(raylet)\u001b[0m [2024-11-04 14:45:43,606 E 53595 2217346] (raylet) file_system_monitor.cc:111: /tmp/ray/session_2024-11-04_14-44-59_566559_53558 is over 95% full, available space: 3805859840; capacity: 250685575168. Object creation will fail if spilling is required.\n",
      "\u001b[2m\u001b[33m(raylet)\u001b[0m [2024-11-04 14:45:53,674 E 53595 2217346] (raylet) file_system_monitor.cc:111: /tmp/ray/session_2024-11-04_14-44-59_566559_53558 is over 95% full, available space: 3804925952; capacity: 250685575168. Object creation will fail if spilling is required.\n",
      "\u001b[2m\u001b[33m(raylet)\u001b[0m [2024-11-04 14:46:03,746 E 53595 2217346] (raylet) file_system_monitor.cc:111: /tmp/ray/session_2024-11-04_14-44-59_566559_53558 is over 95% full, available space: 3804651520; capacity: 250685575168. Object creation will fail if spilling is required.\n",
      "\u001b[2m\u001b[33m(raylet)\u001b[0m [2024-11-04 14:46:13,816 E 53595 2217346] (raylet) file_system_monitor.cc:111: /tmp/ray/session_2024-11-04_14-44-59_566559_53558 is over 95% full, available space: 3802836992; capacity: 250685575168. Object creation will fail if spilling is required.\n",
      "\u001b[2m\u001b[33m(raylet)\u001b[0m [2024-11-04 14:46:23,850 E 53595 2217346] (raylet) file_system_monitor.cc:111: /tmp/ray/session_2024-11-04_14-44-59_566559_53558 is over 95% full, available space: 3804356608; capacity: 250685575168. Object creation will fail if spilling is required.\n",
      "\u001b[2m\u001b[33m(raylet)\u001b[0m [2024-11-04 14:46:33,919 E 53595 2217346] (raylet) file_system_monitor.cc:111: /tmp/ray/session_2024-11-04_14-44-59_566559_53558 is over 95% full, available space: 3807690752; capacity: 250685575168. Object creation will fail if spilling is required.\n",
      "\u001b[2m\u001b[33m(raylet)\u001b[0m [2024-11-04 14:46:43,990 E 53595 2217346] (raylet) file_system_monitor.cc:111: /tmp/ray/session_2024-11-04_14-44-59_566559_53558 is over 95% full, available space: 3807350784; capacity: 250685575168. Object creation will fail if spilling is required.\n",
      "\u001b[2m\u001b[33m(raylet)\u001b[0m [2024-11-04 14:46:54,065 E 53595 2217346] (raylet) file_system_monitor.cc:111: /tmp/ray/session_2024-11-04_14-44-59_566559_53558 is over 95% full, available space: 3807039488; capacity: 250685575168. Object creation will fail if spilling is required.\n",
      "\u001b[2m\u001b[33m(raylet)\u001b[0m [2024-11-04 14:47:04,135 E 53595 2217346] (raylet) file_system_monitor.cc:111: /tmp/ray/session_2024-11-04_14-44-59_566559_53558 is over 95% full, available space: 3806703616; capacity: 250685575168. Object creation will fail if spilling is required.\n",
      "\u001b[2m\u001b[33m(raylet)\u001b[0m [2024-11-04 14:47:14,214 E 53595 2217346] (raylet) file_system_monitor.cc:111: /tmp/ray/session_2024-11-04_14-44-59_566559_53558 is over 95% full, available space: 3806490624; capacity: 250685575168. Object creation will fail if spilling is required.\n",
      "\u001b[2m\u001b[33m(raylet)\u001b[0m [2024-11-04 14:47:24,269 E 53595 2217346] (raylet) file_system_monitor.cc:111: /tmp/ray/session_2024-11-04_14-44-59_566559_53558 is over 95% full, available space: 2727534592; capacity: 250685575168. Object creation will fail if spilling is required.\n",
      "\u001b[2m\u001b[33m(raylet)\u001b[0m [2024-11-04 14:47:34,349 E 53595 2217346] (raylet) file_system_monitor.cc:111: /tmp/ray/session_2024-11-04_14-44-59_566559_53558 is over 95% full, available space: 2727071744; capacity: 250685575168. Object creation will fail if spilling is required.\n",
      "\u001b[2m\u001b[33m(raylet)\u001b[0m [2024-11-04 14:47:44,414 E 53595 2217346] (raylet) file_system_monitor.cc:111: /tmp/ray/session_2024-11-04_14-44-59_566559_53558 is over 95% full, available space: 2726662144; capacity: 250685575168. Object creation will fail if spilling is required.\n",
      "\u001b[2m\u001b[33m(raylet)\u001b[0m [2024-11-04 14:47:54,489 E 53595 2217346] (raylet) file_system_monitor.cc:111: /tmp/ray/session_2024-11-04_14-44-59_566559_53558 is over 95% full, available space: 2726350848; capacity: 250685575168. Object creation will fail if spilling is required.\n",
      "\u001b[2m\u001b[33m(raylet)\u001b[0m [2024-11-04 14:48:04,561 E 53595 2217346] (raylet) file_system_monitor.cc:111: /tmp/ray/session_2024-11-04_14-44-59_566559_53558 is over 95% full, available space: 2726174720; capacity: 250685575168. Object creation will fail if spilling is required.\n",
      "\u001b[2m\u001b[33m(raylet)\u001b[0m [2024-11-04 14:48:14,634 E 53595 2217346] (raylet) file_system_monitor.cc:111: /tmp/ray/session_2024-11-04_14-44-59_566559_53558 is over 95% full, available space: 2726219776; capacity: 250685575168. Object creation will fail if spilling is required.\n",
      "\u001b[2m\u001b[33m(raylet)\u001b[0m [2024-11-04 14:48:24,701 E 53595 2217346] (raylet) file_system_monitor.cc:111: /tmp/ray/session_2024-11-04_14-44-59_566559_53558 is over 95% full, available space: 2725822464; capacity: 250685575168. Object creation will fail if spilling is required.\n",
      "\u001b[2m\u001b[33m(raylet)\u001b[0m [2024-11-04 14:48:34,764 E 53595 2217346] (raylet) file_system_monitor.cc:111: /tmp/ray/session_2024-11-04_14-44-59_566559_53558 is over 95% full, available space: 2715435008; capacity: 250685575168. Object creation will fail if spilling is required.\n",
      "\u001b[2m\u001b[33m(raylet)\u001b[0m [2024-11-04 14:48:44,834 E 53595 2217346] (raylet) file_system_monitor.cc:111: /tmp/ray/session_2024-11-04_14-44-59_566559_53558 is over 95% full, available space: 2715037696; capacity: 250685575168. Object creation will fail if spilling is required.\n",
      "\u001b[2m\u001b[33m(raylet)\u001b[0m [2024-11-04 14:48:54,904 E 53595 2217346] (raylet) file_system_monitor.cc:111: /tmp/ray/session_2024-11-04_14-44-59_566559_53558 is over 95% full, available space: 2713849856; capacity: 250685575168. Object creation will fail if spilling is required.\n",
      "\u001b[2m\u001b[33m(raylet)\u001b[0m [2024-11-04 14:49:05,001 E 53595 2217346] (raylet) file_system_monitor.cc:111: /tmp/ray/session_2024-11-04_14-44-59_566559_53558 is over 95% full, available space: 2713387008; capacity: 250685575168. Object creation will fail if spilling is required.\n"
     ]
    }
   ],
   "source": [
    "G = build_graph(binary_metrics, draw=True)\n",
    "plt.show()"
   ]
  }
 ],
 "metadata": {
  "kernelspec": {
   "display_name": "215a",
   "language": "python",
   "name": "215a"
  },
  "language_info": {
   "codemirror_mode": {
    "name": "ipython",
    "version": 3
   },
   "file_extension": ".py",
   "mimetype": "text/x-python",
   "name": "python",
   "nbconvert_exporter": "python",
   "pygments_lexer": "ipython3",
   "version": "3.6.13"
  }
 },
 "nbformat": 4,
 "nbformat_minor": 4
}
