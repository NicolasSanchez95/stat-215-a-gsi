{
 "cells": [
  {
   "cell_type": "code",
   "execution_count": 150,
   "id": "0624f4ab-a774-4d23-809e-33ebcf34b988",
   "metadata": {},
   "outputs": [],
   "source": [
    "import numpy as np\n",
    "import pandas as pd\n",
    "import scipy"
   ]
  },
  {
   "cell_type": "code",
   "execution_count": 151,
   "id": "3683a60e-7d41-4bdb-a87d-f3ab2238c48e",
   "metadata": {},
   "outputs": [
    {
     "data": {
      "text/plain": [
       "np.float64(10.0)"
      ]
     },
     "execution_count": 151,
     "metadata": {},
     "output_type": "execute_result"
    }
   ],
   "source": [
    "scipy.special.comb(5,2)"
   ]
  },
  {
   "cell_type": "code",
   "execution_count": 232,
   "id": "1488e13c-a591-409f-af6a-41a88d122cc2",
   "metadata": {},
   "outputs": [
    {
     "name": "stdout",
     "output_type": "stream",
     "text": [
      "25\n"
     ]
    }
   ],
   "source": []
  },
  {
   "cell_type": "code",
   "execution_count": 263,
   "id": "4d6daf79-ae92-4b13-8812-d9ea8faa21ba",
   "metadata": {},
   "outputs": [
    {
     "name": "stdout",
     "output_type": "stream",
     "text": [
      "-0.227017576\n",
      "-0.22701759200000002\n",
      "(np.int64(8), np.int64(16)) (np.int64(7), np.int64(16))\n",
      "-2.53708026\n",
      "-2.53708024\n",
      "(np.int64(1), np.int64(6)) (np.int64(1), np.int64(7))\n",
      "[0.07909701 0.79690676]\n"
     ]
    }
   ],
   "source": [
    "import numpy as np\n",
    "import pandas as pd\n",
    "import scipy\n",
    "\n",
    "n1 = 40\n",
    "n0 = 40\n",
    "X0 = 18\n",
    "X1 = 7\n",
    "theta_0 = 1\n",
    "alpha = 0.05\n",
    "u = X1+X0\n",
    "poss_x1 = np.arange(n1+1)\n",
    "\n",
    "def phi_range(theta):\n",
    "    unnorm_pmf = scipy.special.comb(n0,u - poss_x1)*\\\n",
    "        scipy.special.comb(n1,poss_x1)*np.exp(poss_x1*theta)\n",
    "    norm_const = unnorm_pmf.sum()\n",
    "    norm_pmf = unnorm_pmf/norm_const\n",
    "    norm_cdf = norm_pmf.cumsum()\n",
    "    max_x = np.where(norm_cdf >= 1.-alpha/2.)[0][0]\n",
    "    min_x = np.where(norm_cdf>=alpha/2)[0][0]\n",
    "    return min_x,max_x\n",
    "\n",
    "\n",
    "def phi_range2(theta):\n",
    "    unnorm_pmf = scipy.special.comb(n0,u - poss_x1)*\\\n",
    "        scipy.special.comb(n1,poss_x1)*np.exp(poss_x1*theta)\n",
    "    norm_const = unnorm_pmf.sum()\n",
    "    norm_pmf = unnorm_pmf/norm_const\n",
    "    norm_cdf = norm_pmf.cumsum()\n",
    "    max_x = np.where(norm_cdf<1.-alpha/2.)[0][-1]\n",
    "    min_x = np.where(norm_cdf>alpha/2)[0][0]\n",
    "    return norm_cdf\n",
    "    \n",
    "start = -0.2270174\n",
    "end = -0.227019\n",
    "num_steps = 100\n",
    "track = pd.DataFrame(\\\n",
    "    index = start+np.arange(num_steps)/num_steps*(end-start),\\\n",
    "        data = np.zeros(num_steps), columns = [\"phi\"])\n",
    "\n",
    "for i in range(0,100):\n",
    "    theta_check = start+i/num_steps*(end-start)\n",
    "    track.loc[theta_check],_ = phi_range(theta_check)\n",
    "\n",
    "print(track[track.phi == 8].index[-1])\n",
    "print(track[track.phi == 7].index[0])\n",
    "print(phi_range(start), phi_range(end))\n",
    "max_theta = track[track.phi == 7].index[0]\n",
    "\n",
    "start = -2.537082\n",
    "end = -2.53708\n",
    "num_steps = 100\n",
    "track = pd.DataFrame(\\\n",
    "    index = start+np.arange(num_steps)/num_steps*(end-start),\\\n",
    "        data = np.zeros(num_steps), columns = [\"phi\"])\n",
    "\n",
    "for i in range(0,100):\n",
    "    theta_check = start+i/num_steps*(end-start)\n",
    "    _,track.loc[theta_check]= phi_range(theta_check)\n",
    "\n",
    "track\n",
    "print(track[track.phi == 6].index[-1])\n",
    "print(track[track.phi == 7].index[0])\n",
    "print(phi_range(start), phi_range(end))\n",
    "min_theta = track[track.phi == 7].index[0]\n",
    "\n",
    "print(np.exp([min_theta,max_theta]))"
   ]
  },
  {
   "cell_type": "code",
   "execution_count": 165,
   "id": "7926ec6b-a9c0-49d2-969d-642f3859888e",
   "metadata": {},
   "outputs": [
    {
     "data": {
      "text/plain": [
       "array([0.10818117, 0.62381589])"
      ]
     },
     "execution_count": 165,
     "metadata": {},
     "output_type": "execute_result"
    }
   ],
   "source": [
    "min_theta,max_theta\n",
    "rho_0_int = np.exp([min_theta,max_theta])\n",
    "rho_0_int"
   ]
  },
  {
   "cell_type": "code",
   "execution_count": 166,
   "id": "03aad379-8d62-46c4-86e5-ea92b4ff0371",
   "metadata": {},
   "outputs": [],
   "source": [
    "import numpy as np\n",
    "import matplotlib.pyplot as plt\n",
    "from scipy.stats import binom\n",
    "\n"
   ]
  },
  {
   "cell_type": "code",
   "execution_count": 270,
   "id": "2a9cf1e8-cc2b-4a7c-837d-587bc152ed38",
   "metadata": {},
   "outputs": [],
   "source": [
    "N00 = 1000\n",
    "N11 = 1000\n",
    "N01 = 5\n",
    "N10 = 25\n",
    "Nx = N11+N10\n",
    "Ny = N01+N11\n",
    "n = N00+N11+N01+N10\n",
    "u = N01+N10"
   ]
  },
  {
   "cell_type": "code",
   "execution_count": 265,
   "id": "495b1b32-cb79-4b54-bb13-42ee5402ca65",
   "metadata": {},
   "outputs": [
    {
     "name": "stdout",
     "output_type": "stream",
     "text": [
      "0.4829 0.527\n",
      "0.02448442321156294 0.9776596372335263\n"
     ]
    }
   ],
   "source": [
    "alpha = 0.05\n",
    "pi_x = np.arange(0,1,0.0001)\n",
    "\n",
    "ceilx = binom.ppf(1-alpha/2, n, pi_x)\n",
    "floorx = binom.ppf(alpha/2, n, pi_x)\n",
    "\n",
    "pi_max_x = pi_x[np.where(floorx <= Nx)[0][-1]+1]\n",
    "pi_min_x = pi_x[np.where(ceilx >= Nx)[0][0]-1]\n",
    "print(pi_min_x, pi_max_x)\n",
    "print(binom.cdf(Nx, n, pi_max_x),binom.cdf(Nx, n, pi_min_x))"
   ]
  },
  {
   "cell_type": "code",
   "execution_count": 268,
   "id": "a3feb87f-82e4-49a0-ba81-234a17566927",
   "metadata": {},
   "outputs": [
    {
     "name": "stdout",
     "output_type": "stream",
     "text": [
      "0.47309000000000007 0.51707\n",
      "0.024965715696569826 0.9775258793526151\n"
     ]
    }
   ],
   "source": []
  },
  {
   "cell_type": "code",
   "execution_count": 269,
   "id": "6a45b45d-c339-4a43-ad7f-b5c0ec034f99",
   "metadata": {},
   "outputs": [
    {
     "name": "stdout",
     "output_type": "stream",
     "text": [
      "0.47309000000000007 0.51707\n",
      "0.024965715696569826 0.9775258793526151\n"
     ]
    }
   ],
   "source": [
    "N00 = 1000\n",
    "N11 = 1000\n",
    "N01 = 5\n",
    "N10 = 25\n",
    "Nx = N11+N10\n",
    "Ny = N01+N11\n",
    "n = N00+N11+N01+N10\n",
    "u = N01+N10\n",
    "\n",
    "alpha = 0.05\n",
    "pi_x = np.arange(0,1,0.0001)\n",
    "\n",
    "ceilx = binom.ppf(1-alpha/2, n, pi_x)\n",
    "floorx = binom.ppf(alpha/2, n, pi_x)\n",
    "\n",
    "pi_max_x = pi_x[np.where(floorx <= Nx)[0][-1]+1]\n",
    "pi_min_x = pi_x[np.where(ceilx >= Nx)[0][0]-1]\n",
    "print(pi_min_x, pi_max_x)\n",
    "print(binom.cdf(Nx, n, pi_max_x),binom.cdf(Nx, n, pi_min_x))\n",
    "\n",
    "pi_y = np.arange(0,1,0.00001)\n",
    "\n",
    "ceily = binom.ppf(1-alpha/2, n, pi_y)\n",
    "floory = binom.ppf(alpha/2, n, pi_y)\n",
    "\n",
    "pi_max_y = pi_y[np.where(floory <= Ny)[0][-1]+1]\n",
    "pi_min_y = pi_y[np.where(ceily >= Ny)[0][0]-1]\n",
    "print(pi_min_y, pi_max_y)\n",
    "print(binom.cdf(Ny, n, pi_max_y),binom.cdf(Ny, n, pi_min_y))\n",
    "print(1-binom.cdf(N10, N10+N01, 0.5))\n",
    "print(np.array([scipy.special.comb(N10+N01,N10+i)*(0.5**(N10+N01)) for i in range(1,N01+1)]).sum())"
   ]
  },
  {
   "cell_type": "code",
   "execution_count": 289,
   "id": "5cf938e0-c454-4815-ad1d-fded3d021fea",
   "metadata": {},
   "outputs": [
    {
     "data": {
      "text/plain": [
       "np.float64(2.9738061130046844e-05)"
      ]
     },
     "execution_count": 289,
     "metadata": {},
     "output_type": "execute_result"
    }
   ],
   "source": [
    "print(1-binom.cdf(N10, N10+N01, 0.5))\n",
    "print(np.array([scipy.special.comb(N10+N01,N10+i)*(0.5**(N10+N01)) for i in range(1,N01+1)]).sum())"
   ]
  },
  {
   "cell_type": "code",
   "execution_count": 288,
   "id": "7db356e4-fb80-43d4-8c22-1c800ab84b53",
   "metadata": {},
   "outputs": [
    {
     "data": {
      "text/plain": [
       "np.float64(2.9738061130046844e-05)"
      ]
     },
     "execution_count": 288,
     "metadata": {},
     "output_type": "execute_result"
    }
   ],
   "source": []
  },
  {
   "cell_type": "code",
   "execution_count": 286,
   "id": "0e4a41fa-b4ab-4dc6-9dc7-b3b5c8be701b",
   "metadata": {},
   "outputs": [
    {
     "data": {
      "text/plain": [
       "np.float64(2.552289515733721e-05)"
      ]
     },
     "execution_count": 286,
     "metadata": {},
     "output_type": "execute_result"
    }
   ],
   "source": [
    "binom.pmf(N10+1, N10+N01, 0.5)\n"
   ]
  },
  {
   "cell_type": "code",
   "execution_count": 262,
   "id": "0b171e42-12ff-409a-a1bd-dc8dd374d278",
   "metadata": {},
   "outputs": [
    {
     "ename": "TypeError",
     "evalue": "_parse_args() missing 1 required positional argument: 'p'",
     "output_type": "error",
     "traceback": [
      "\u001b[0;31m---------------------------------------------------------------------------\u001b[0m",
      "\u001b[0;31mTypeError\u001b[0m                                 Traceback (most recent call last)",
      "Cell \u001b[0;32mIn[262], line 1\u001b[0m\n\u001b[0;32m----> 1\u001b[0m cdf \u001b[38;5;241m=\u001b[39m \u001b[43mbinom\u001b[49m\u001b[38;5;241;43m.\u001b[39;49m\u001b[43mcdf\u001b[49m\u001b[43m(\u001b[49m\u001b[38;5;241;43m10\u001b[39;49m\u001b[43m,\u001b[49m\u001b[43m \u001b[49m\u001b[38;5;241;43m0.5\u001b[39;49m\u001b[43m)\u001b[49m\n",
      "File \u001b[0;32m/opt/miniconda3/envs/215a/lib/python3.13/site-packages/scipy/stats/_distn_infrastructure.py:3528\u001b[0m, in \u001b[0;36mrv_discrete.cdf\u001b[0;34m(self, k, *args, **kwds)\u001b[0m\n\u001b[1;32m   3509\u001b[0m \u001b[38;5;28;01mdef\u001b[39;00m \u001b[38;5;21mcdf\u001b[39m(\u001b[38;5;28mself\u001b[39m, k, \u001b[38;5;241m*\u001b[39margs, \u001b[38;5;241m*\u001b[39m\u001b[38;5;241m*\u001b[39mkwds):\n\u001b[1;32m   3510\u001b[0m \u001b[38;5;250m    \u001b[39m\u001b[38;5;124;03m\"\"\"Cumulative distribution function of the given RV.\u001b[39;00m\n\u001b[1;32m   3511\u001b[0m \n\u001b[1;32m   3512\u001b[0m \u001b[38;5;124;03m    Parameters\u001b[39;00m\n\u001b[0;32m   (...)\u001b[0m\n\u001b[1;32m   3526\u001b[0m \n\u001b[1;32m   3527\u001b[0m \u001b[38;5;124;03m    \"\"\"\u001b[39;00m\n\u001b[0;32m-> 3528\u001b[0m     args, loc, _ \u001b[38;5;241m=\u001b[39m \u001b[38;5;28;43mself\u001b[39;49m\u001b[38;5;241;43m.\u001b[39;49m\u001b[43m_parse_args\u001b[49m\u001b[43m(\u001b[49m\u001b[38;5;241;43m*\u001b[39;49m\u001b[43margs\u001b[49m\u001b[43m,\u001b[49m\u001b[43m \u001b[49m\u001b[38;5;241;43m*\u001b[39;49m\u001b[38;5;241;43m*\u001b[39;49m\u001b[43mkwds\u001b[49m\u001b[43m)\u001b[49m\n\u001b[1;32m   3529\u001b[0m     k, loc \u001b[38;5;241m=\u001b[39m \u001b[38;5;28mmap\u001b[39m(asarray, (k, loc))\n\u001b[1;32m   3530\u001b[0m     args \u001b[38;5;241m=\u001b[39m \u001b[38;5;28mtuple\u001b[39m(\u001b[38;5;28mmap\u001b[39m(asarray, args))\n",
      "\u001b[0;31mTypeError\u001b[0m: _parse_args() missing 1 required positional argument: 'p'"
     ]
    }
   ],
   "source": [
    "def phi_range(theta):\n",
    "    unnorm_pmf = scipy.special.comb(n0,u - poss_x1)*\\\n",
    "        scipy.special.comb(n1,poss_x1)*np.exp(poss_x1*theta)\n",
    "    norm_const = unnorm_pmf.sum()\n",
    "    norm_pmf = unnorm_pmf/norm_const\n",
    "    norm_cdf = norm_pmf.cumsum()\n",
    "    max_x = np.where(norm_cdf >= 1.-alpha/2.)[0][0]\n",
    "    min_x = np.where(norm_cdf>=alpha/2)[0][0]\n",
    "    return min_x,max_x\n",
    "\n",
    "\n",
    "def phi_range2(theta):\n",
    "    unnorm_pmf = scipy.special.comb(n0,u - poss_x1)*\\\n",
    "        scipy.special.comb(n1,poss_x1)*np.exp(poss_x1*theta)\n",
    "    norm_const = unnorm_pmf.sum()\n",
    "    norm_pmf = unnorm_pmf/norm_const\n",
    "    norm_cdf = norm_pmf.cumsum()\n",
    "    max_x = np.where(norm_cdf<1.-alpha/2.)[0][-1]\n",
    "    min_x = np.where(norm_cdf>alpha/2)[0][0]\n",
    "    return norm_cdf"
   ]
  }
 ],
 "metadata": {
  "kernelspec": {
   "display_name": "215a",
   "language": "python",
   "name": "215a"
  },
  "language_info": {
   "codemirror_mode": {
    "name": "ipython",
    "version": 3
   },
   "file_extension": ".py",
   "mimetype": "text/x-python",
   "name": "python",
   "nbconvert_exporter": "python",
   "pygments_lexer": "ipython3",
   "version": "3.13.0"
  }
 },
 "nbformat": 4,
 "nbformat_minor": 5
}
